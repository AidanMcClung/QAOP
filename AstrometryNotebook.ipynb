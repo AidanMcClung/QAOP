{
 "cells": [
  {
   "cell_type": "markdown",
   "metadata": {},
   "source": [
    "# Astrometry Notebook"
   ]
  },
  {
   "cell_type": "markdown",
   "metadata": {},
   "source": [
    "In order to properly work with our data we need to know what part of the sky each image is of. Figuring this out is called *plate solving*; the easiest way for us to do so is to uplaod each of our images to nova.astronomy.net. \n",
    "Doing this by hand is  possible but tedious, so this notebook helps do it automatically.\n",
    "\n",
    "The general process is fairly simple:\n",
    "1. Use our API key to let the server know we're allowed to send it a bunch of things and that it can trust us.\n",
    "2. Make a list of every file that we've placed in a specific 'input' folder.\n",
    "3. Upload each of those files to Astrometry, and save the special number it assigns that submission.\n",
    "4. Wait a bit to make sure it has time to process. (If uploading lots of files, this should not be a problem in the slightest, as the time it takes us to uplaod is enough for it to process)\n",
    "5. Download a new, enchanced, fits file from Astrometry into the folder this notebook is in.\n",
    "6. Move all those downloaded files to their final home; the 'output' folder."
   ]
  },
  {
   "cell_type": "markdown",
   "metadata": {},
   "source": [
    "# Import Statements and Required Functions"
   ]
  },
  {
   "cell_type": "code",
   "execution_count": null,
   "metadata": {},
   "outputs": [],
   "source": [
    "import sys\n",
    "#My folder is at: /Users/aidanmcclung/Desktop/Summer_Exoplanets\n",
    "\n",
    "codeFilePath = '/Users/aidanmcclung/Desktop/Summer_Exoplanets'\n",
    "sys.path.append(codeFilePath) #this lets python know to look here for import statements"
   ]
  },
  {
   "cell_type": "code",
   "execution_count": null,
   "metadata": {},
   "outputs": [],
   "source": [
    "import QAOP.client as client #This is a .py file that should be in the QAOP folder\n",
    "\n",
    "import os #OS is essentially just the basic terminal comand line interface tools in python. \n",
    "#We need it to move our files around.\n",
    "\n",
    "#We need two packages in order to do our web operations:\n",
    "import requests #The default python webserver interfacing package\n",
    "import json #The python JavaScript Object Notation interfacing package\n",
    "\n",
    "from IPython.display import clear_output #to save you from the worlds longest output cells :)\n",
    "\n",
    "from QAOP.QAOP_utils import readConfigFile\n",
    "codeFilePath,dataFilePath = readConfigFile()\n",
    "print(dataFilePath)"
   ]
  },
  {
   "cell_type": "markdown",
   "metadata": {},
   "source": [
    "## Function Definitions\n",
    "\n",
    "I created each of these functions, and have attempted to add enough comments to describe what they do.\n",
    "Knowing those specifics isn't necessary though, and if you're not interested you can absolutely **run each of these cells once** and move on to the **Main Program**\n",
    "\n",
    "#### (You can run each of these cells and move on to the \"Main Program\")"
   ]
  },
  {
   "cell_type": "code",
   "execution_count": null,
   "metadata": {},
   "outputs": [],
   "source": [
    "def findFileName(fn,debug=False):\n",
    "    ''' This function scans the end of a filename to see whether its a .fit or .fits, \n",
    "    and then takes the corresponding 3 numbers that it needs for the file name. \n",
    "    This is important because where those three characters we need are will change between the two file types.'''\n",
    "    if fn[-4:] == \".fit\": \n",
    "        name = fn[:-4]\n",
    "        if debug: print(\".fit file detected.  Saving filename as:\",name)\n",
    "    if fn[-5:] == \".fits\": \n",
    "        name = fn[:-5]\n",
    "        if debug: print(\".fits file detected. Saving filename as:\",name)\n",
    "    return name\n",
    "\n",
    "def getSubID(fn,debug=False):\n",
    "    \"\"\"This function uploads a file at the given fn (filename) to astrometry.net, \n",
    "    and returns the submission ID for that upload.\"\"\"\n",
    "    #Now we need to upload the file to astrometry.net\n",
    "    # we do this using a method in the client class: upload()\n",
    "    #This then returns a json status, but we only care about the info it gives us about where it went,\n",
    "    # ie the \"Submission ID\", which we take out of the result.\n",
    "    SUBIDforThis = cAPI.upload(dataFilePath+'input/'+fn)[\"subid\"]\n",
    "    if debug: print(f\"SUBID for {fn} is {SUBIDforThis}\")\n",
    "    return SUBIDforThis\n",
    "\n",
    "def submitFile(fn,debug=False):\n",
    "    \"\"\"This function is the wrapper for uploading files; it uses the above getSubID to upload the image, \n",
    "    but it also finds and saves the corresponding name alongside the subID, so that we can get them later.\"\"\"\n",
    "    name = findFileName(fn) #detect whether .fits or .fit so we can get the right characters for the name\n",
    "    if debug: print(\"Submitting File:\",name)\n",
    "    subid = getSubID(fn) #This function is where we upload the file\n",
    "    nameSubs[name] = subid #We add what it was saved as to our own dictionary, so we know whats what.\n",
    "    return name #We return the name and add it to a list with this call, \n",
    "                #which we then use later to iterate through all the things we uploaded"
   ]
  },
  {
   "cell_type": "code",
   "execution_count": null,
   "metadata": {},
   "outputs": [],
   "source": [
    "def getJobID(SubID,debug=False):\n",
    "    \"\"\"When an image is done processing, it will have a JobID attached to the SubID, which we use to get the results. \n",
    "    This function retrieves the JobId given a SubID.\"\"\"\n",
    "    #When Astrometry does it's thing, we submit our image, but it hasn't been solved.\n",
    "    #Once it has been solved, it's assigned a \"jobID\" which we need in order to access the results.\n",
    "    R = requests.post('http://nova.astrometry.net/api/submissions/'+str(SubID))\n",
    "    #R will be an object with the response to the web post we sent.\n",
    "    #print(R.json()) #Uncomment to see this response\n",
    "    JOBIDSforThis = R.json()[\"jobs\"] #A submission *may* have multiple jobs. \n",
    "    JOBIDforThis = JOBIDSforThis[0] #We only care about the first one that was done\n",
    "    if debug: print(JOBIDforThis)\n",
    "    return JOBIDforThis\n",
    "\n",
    "\n",
    "from urllib.request import urlretrieve as saveFromWeb #self explanatory import\n",
    "def saveNewFits(JOBIDforThis,name):\n",
    "    \"\"\"This function uses a JobID to download an enhanced fits file with the new data in the header,\n",
    "    and saves it to the current location using the name that was provided.\"\"\"\n",
    "    saveFromWeb(\"https://nova.astrometry.net/new_fits_file/\"+str(JOBIDforThis), name+\".fits\")\n",
    "    return name+\".fits\"\n",
    "\n",
    "def retrieveFile(name,debug=False):\n",
    "    \"\"\"This function does the lookups in order to facilitate saving a file, given a name. It first gets the SubID,\n",
    "    and then uses that to get the JobID and lastly save the file.\"\"\"\n",
    "    #print(\"--------:\",nameSubs)\n",
    "    subid = nameSubs[name] #First retrieve the SubID for this file\n",
    "    jobid = getJobID(subid) #Next we acquire the JobID for it's succesful result\n",
    "    newName = saveNewFits(jobid,name) #We use the JobID to get the file from astrometry, \n",
    "    #and then we need the name in order to save it as the right name\n",
    "    return newName"
   ]
  },
  {
   "cell_type": "markdown",
   "metadata": {},
   "source": [
    "# Main Program\n",
    "\n",
    "The first step is to enter an api key. There should be a string of characters in a comment, you'll need to copy and past those into the spot that shows up when you run the cell."
   ]
  },
  {
   "cell_type": "code",
   "execution_count": null,
   "metadata": {},
   "outputs": [],
   "source": [
    "#USERS NEED TO ENTER AN API KEY!!!!\n",
    "\n",
    "APIKEY = input(\"Please enter your API Key\")\n",
    "#copy and paste the following string of characters into the textbox that appears when you run the cell\n",
    "#     webboctjikkepcfj        #Aidan's API Key\n",
    "\n",
    "cAPI = client.Client()\n",
    "cAPI.login(APIKEY)"
   ]
  },
  {
   "cell_type": "markdown",
   "metadata": {},
   "source": [
    "-----\n",
    "Now that we're logged in, we next need to assemble a list of all the files we'd like to upload. \n",
    "\n",
    "These should have been put into the 'input' folder with the renaming section in the master notebook, so they should have already been filtered and only be images, but we double check because sometimes there's sneaky buggers."
   ]
  },
  {
   "cell_type": "code",
   "execution_count": null,
   "metadata": {},
   "outputs": [],
   "source": [
    "inputFiles_all = os.listdir(dataFilePath+\"input\")\n",
    "#print(inputFiles_all)\n",
    "#The program will pull in ANY files that are there; \n",
    "#sometimes there are hidden os files or such we don't want, so we need to filter those out.\n",
    "inputFiles = []\n",
    "for file in inputFiles_all:\n",
    "    if file[-4:] == '.fit': inputFiles.append(file)\n",
    "#print(inputFiles)\n",
    "\n",
    "numFiles = len(inputFiles)\n",
    "print(numFiles,'files were identified:\\n',inputFiles)"
   ]
  },
  {
   "cell_type": "markdown",
   "metadata": {},
   "source": [
    "-----\n",
    "Before we get going, we have a few dictionaries and lists that we will need, in addition to `inputFiles` which we just made, so we get those made now."
   ]
  },
  {
   "cell_type": "code",
   "execution_count": null,
   "metadata": {},
   "outputs": [],
   "source": [
    "#This dictionary will contain the mapping between the names and what submission IDs they were assigned \n",
    "# when they were uploaded.\n",
    "nameSubs = {}\n",
    "#We define it in it's own cell so that it doesn't ever get deleted/cleared accidentally \n",
    "# if we need to run a part of the program again.\n",
    "names = []"
   ]
  },
  {
   "cell_type": "code",
   "execution_count": null,
   "metadata": {},
   "outputs": [],
   "source": [
    "#Set these two here in a seperate cell to maintain progress upon hitting an error. \n",
    "# I wasn't fully able to test that it resumed under all circumstances, so I would advise not fully counting on it.\n",
    "upload_progress = 0 \n",
    "checkFiles = []"
   ]
  },
  {
   "cell_type": "markdown",
   "metadata": {},
   "source": [
    "Now we need to upload all of our files! We simply loop through all of them and save the relevant bits as we go.\n",
    "\n",
    "This WILL take a long time; long enough you can go do something else for a bit while it goes. \n",
    "\n",
    "Sorry if you left this for the last minute, but you're straight out of luck."
   ]
  },
  {
   "cell_type": "code",
   "execution_count": null,
   "metadata": {},
   "outputs": [],
   "source": [
    "while upload_progress < numFiles:\n",
    "    file = inputFiles[upload_progress]\n",
    "    \n",
    "    #Take care of some of the feedback stuff so we know how it's doing\n",
    "    clear_output(wait=False)\n",
    "    print('Upload Status:',upload_progress,'of',numFiles, \"   Current File (Unordered):\",file)\n",
    "    print(\"\")\n",
    "    \n",
    "    #submit file\n",
    "    name = submitFile(file)\n",
    "    #save name\n",
    "    names.append(name)\n",
    "    checkFiles.append(file)\n",
    "    #print(file)\n",
    "    upload_progress += 1\n",
    "    \n",
    "print(\"Uploading Complete.\")\n",
    "    \n",
    "#And lastly we just run a check to make sure that all of them get uploaded right. you should see nothing\n",
    "for file in inputFiles:\n",
    "    if not checkFiles.count(file): print(file,\"Was not present in the redundancy list.\")"
   ]
  },
  {
   "cell_type": "markdown",
   "metadata": {},
   "source": [
    "-----\n",
    "Now we need to download the files. First we create a few items again like we did before to track our progress, and then we loop through.\n",
    "\n",
    "This part WILL stick them in whatever directory this notebook is in, and it might get a little bit messy. The next part will involve us moving the files to the proper output directory that was specified in the config file."
   ]
  },
  {
   "cell_type": "code",
   "execution_count": null,
   "metadata": {},
   "outputs": [],
   "source": [
    "savedFiles = []\n",
    "download_progress = 0\n",
    "numDown = len(names)"
   ]
  },
  {
   "cell_type": "code",
   "execution_count": null,
   "metadata": {},
   "outputs": [],
   "source": [
    "while download_progress < numDown:\n",
    "    name = names[download_progress]\n",
    "    \n",
    "    #Take care of some of the feedback stuff so we know how it's doing\n",
    "    clear_output(wait=False)\n",
    "    print('Download Status:',download_progress,'of',numDown,\"  Current File (Unordered):\",name)\n",
    "    print(\"Most Recent Download was:\",savedFiles[-1])\n",
    "    print(\"\")\n",
    "    \n",
    "    if not savedFiles.count(name): #make sure we don't download twice if we added a name twice accidentally\n",
    "        downFile = retrieveFile(name)\n",
    "        savedFiles.append(downFile)\n",
    "        print(\"\")\n",
    "        print(\"Downloaded File:\",savedFiles[-1])\n",
    "    \n",
    "    #Take care of some of the feedback stuff so we know how it's doing\n",
    "    download_progress += 1\n",
    "    "
   ]
  },
  {
   "cell_type": "markdown",
   "metadata": {},
   "source": [
    "-----\n",
    "These next two cells don't really have much purpose if things have gone right. They're left here to help maybe guide you if things go wrong, but I haven't explained them very much so they might not be very helpful after all."
   ]
  },
  {
   "cell_type": "code",
   "execution_count": null,
   "metadata": {},
   "outputs": [],
   "source": [
    "#uncomment either of these if you need to check something. \n",
    "#You can copy the 7-digit number and paste it into the following link to look at the image in a web browser.\n",
    "#  https://nova.astrometry.net/user_images/[subid]#annotated\n",
    "\n",
    "#print(nameSubs)\n",
    "#print(len(nameSubs))"
   ]
  },
  {
   "cell_type": "code",
   "execution_count": null,
   "metadata": {},
   "outputs": [],
   "source": [
    "#if you want to look at what it saved:\n",
    "#print(savedFiles)"
   ]
  },
  {
   "cell_type": "markdown",
   "metadata": {},
   "source": [
    "-----\n",
    "Lastly, we need to move all of the files that we downloaded into the proper location. Due to the way it was coded, there is a possibilty that the code might think a file exists, and try to move it twice, so we first do a little cast uncast to prevent that."
   ]
  },
  {
   "cell_type": "code",
   "execution_count": null,
   "metadata": {},
   "outputs": [],
   "source": [
    "#If we ran the loop multiple times, when we redownloaded a file, it would have overwrote the old one.\n",
    "#However, the name would still get readded to the list. So, we want to take out any duplicate names, \n",
    "#  which we can do by a sneaky trick; casting a dict and then back to a list:\n",
    "savedFiles = list(dict.fromkeys(savedFiles)) #remove duplicates\n",
    "#Note: this bug can be fixed by putting the savedFiles list in the same cell as it's loop, but then we can't continue if interrupted\n",
    "\n",
    "#We can only download files to the same location as this python file, for cybersecurity reasons\n",
    "# After we've downloaded all the files into our main folder, we want to put them into their own \n",
    "# folder, which is what this lil loop here does\n",
    "\n",
    "#print(savedFiles) #troubleshooting\n",
    "for fn in savedFiles:\n",
    "    #if fn == '060.fits': continue #There was an error and 060.fits was corrupted. Replicate if you encounter problems\n",
    "    os.rename(fn,dataFilePath+'output/'+fn)"
   ]
  },
  {
   "cell_type": "markdown",
   "metadata": {},
   "source": [
    "#### We've now done everything that we need to with this notebook, and you can go back to the Master and continue.\n",
    "\n",
    "# Before/After Comparison (Optional)\n",
    "\n",
    "There are a few more things that may be interesting to you that we wanted to include for you to check out.\n",
    "\n",
    "If you're interested in seeing what changed by doing this process, you can do so with the cells that follow. There are two versions, one which demonstrates the WCS info we added, and another one below that which prints the whole header for you to see."
   ]
  },
  {
   "cell_type": "code",
   "execution_count": null,
   "metadata": {},
   "outputs": [],
   "source": [
    "#These two packages are only used to check on whether the program worked or not.\n",
    "from astropy.io import fits #be able to interpret fits files\n",
    "from astropy.wcs import WCS #convert/extract the information we added"
   ]
  },
  {
   "cell_type": "code",
   "execution_count": null,
   "metadata": {},
   "outputs": [],
   "source": [
    "inputFileName = \"009.fit\" #Change this to be what file you'd like to check\n",
    "\n",
    "print(\"WCS Info Before Astrometry:\")\n",
    "print(\" \")\n",
    "\n",
    "with fits.open(dataFilePath+\"input/\"+inputFileName) as f:\n",
    "    w = WCS(f[0].header)\n",
    "    print(w)\n",
    "\n",
    "print(\" \")\n",
    "print(\"----------------------------------------------------------------\")\n",
    "print(\"WCS Info After Astrometry:\")\n",
    "print(\" \")\n",
    "\n",
    "outputFileName = inputFileName + \"s\" #change this if the only change wasn't .fit -> .fits\n",
    "with fits.open(dataFilePath+\"output/\"+outputFileName) as f:\n",
    "    w = WCS(f[0].header)\n",
    "    print(w)"
   ]
  },
  {
   "cell_type": "code",
   "execution_count": null,
   "metadata": {},
   "outputs": [],
   "source": [
    "inputFileName = \"009.fit\" #Change this to be what file you'd like to check\n",
    "\n",
    "print(\"FITS Header Before Astrometry:\")\n",
    "print(\" \")\n",
    "\n",
    "with fits.open(dataFilePath+\"input/\"+inputFileName) as f:\n",
    "    print(repr(f[0].header))\n",
    "\n",
    "print(\" \")\n",
    "print(\"----------------------------------------------------------------\")\n",
    "print(\"FITS Header After Astrometry:\")\n",
    "print(\" \")\n",
    "\n",
    "outputFileName = inputFileName + \"s\" #change this if the only change wasn't .fit -> .fits\n",
    "with fits.open(dataFilePath+\"output/\"+outputFileName) as f:\n",
    "    print(repr(f[0].header))"
   ]
  },
  {
   "cell_type": "code",
   "execution_count": null,
   "metadata": {},
   "outputs": [],
   "source": []
  }
 ],
 "metadata": {
  "kernelspec": {
   "display_name": "Python 3",
   "language": "python",
   "name": "python3"
  },
  "language_info": {
   "codemirror_mode": {
    "name": "ipython",
    "version": 3
   },
   "file_extension": ".py",
   "mimetype": "text/x-python",
   "name": "python",
   "nbconvert_exporter": "python",
   "pygments_lexer": "ipython3",
   "version": "3.8.5"
  }
 },
 "nbformat": 4,
 "nbformat_minor": 4
}
