{
 "cells": [
  {
   "cell_type": "markdown",
   "metadata": {},
   "source": [
    "# Master Notebook\n",
    "\n",
    "This notebook is the homepage (for the analysis section at least) and should direct you to where you need to go, and guide you through the whole process.\n",
    "\n",
    "Some of the tasks and steps are pretty intensive, and would make this into the world's longest mega notebook if we did them here, so there are some sub-notebooks you will be directed to.\n",
    "\n",
    "There are also a number of modules included that we use via import statements. These contain code that I felt complicated the otherwise logical and easy to follow process, so I hid it in these modules. You're welcome to take a look if you are curious and confident, or you can of cource choose to remain blissfully unaware.\n"
   ]
  },
  {
   "cell_type": "markdown",
   "metadata": {},
   "source": [
    "### Initialization\n",
    "\n",
    "Because of the unofficial nature of these modules, we need to tell python where to find them. In this first cell you'll want to replace the path with the path to get to the folder containg your QAOP scripts. \n",
    "\n",
    "You're also welcome to put your data files in a seperate location from these notebooks and the code. If you choose to do this, you should specify that location in the cell below.\n",
    "\n",
    "Run the following cells before continuing; the cells should make sure that everything is prepped and ready."
   ]
  },
  {
   "cell_type": "code",
   "execution_count": 15,
   "metadata": {},
   "outputs": [],
   "source": [
    "import sys\n",
    "#My QAOP folder is in: /Users/aidanmcclung/Desktop/Summer_Exoplanets\n",
    "\n",
    "codeFilePath = '/Users/aidanmcclung/Desktop/Summer_Exoplanets'  #/QAOP/ <- folder containing QAOP folder.\n",
    "sys.path.append(codeFilePath) #this lets python know to look here for import statements"
   ]
  },
  {
   "cell_type": "markdown",
   "metadata": {},
   "source": [
    "We'll need to copy and paste that ^ cell into every new notebook we use, so be ready for that! :)"
   ]
  },
  {
   "cell_type": "code",
   "execution_count": 13,
   "metadata": {},
   "outputs": [],
   "source": [
    "#We want to save our paths to a file so that our code modules can use it as well!\n",
    "#In future notebooks we just use a method in the QAOP_Utils module to look up the file.\n",
    "\n",
    "#This is where you should change the folder you have your data in if you need to\n",
    "dataFilePath = '/Users/aidanmcclung/Desktop/Summer_Exoplanets/Demo/'\n",
    "#dataFilePath = ''\n",
    "\n",
    "import io\n",
    "\n",
    "with open(codeFilePath+'QAOP/config.txt','w') as config_file:\n",
    "    config_file.write(f\"codeFilePath='{codeFilePath}'\")\n",
    "    config_file.write(\"\\n\")\n",
    "    config_file.write(f\"dataFilePath='{dataFilePath}'\")"
   ]
  },
  {
   "cell_type": "code",
   "execution_count": 12,
   "metadata": {},
   "outputs": [
    {
     "name": "stdout",
     "output_type": "stream",
     "text": [
      "codeFilePath='/Users/aidanmcclung/Desktop/Summer_Exoplanets/'\n",
      "\n",
      "dataFilePath='/Users/aidanmcclung/Desktop/Summer_Exoplanets/Demo/'\n"
     ]
    }
   ],
   "source": [
    "#verify that worked by trying to read it and printing the results\n",
    "with open(codeFilePath+'QAOP/config.txt','r') as config_file:\n",
    "    testcodeFilePath = config_file.readline()\n",
    "    testdataFilePath = config_file.readline()\n",
    "    print(testcodeFilePath)\n",
    "    print(testdataFilePath)\n",
    "#modules in the QAOP package should now try and look for this config file automatically."
   ]
  },
  {
   "cell_type": "markdown",
   "metadata": {},
   "source": [
    "Throughout the subsequent notebooks there are a few folders that things will try to call and access. These should be in the dataFilePath you specified, and the following cell will make them if they don't exist"
   ]
  },
  {
   "cell_type": "code",
   "execution_count": 19,
   "metadata": {},
   "outputs": [],
   "source": [
    "#we need to check and maybe create all the folders we will want to use:\n",
    "import os\n",
    "required_directories = ['input','output','myWorking','photometry']\n",
    "\n",
    "for rq_dir in required_directories:\n",
    "    if not os.listdir(dataFilePath).count(rq_dir): \n",
    "        print(rq_dir,\": directory does not exist, creating one\")\n",
    "        os.mkdir(dataFilePath+rq_dir)"
   ]
  },
  {
   "cell_type": "markdown",
   "metadata": {},
   "source": [
    "# Steps\n",
    "\n",
    "## Getting The Data\n",
    "\n",
    "The first thing we have to do is actually get our data. Navigate to data.itelescope.net, and log in. Next find the images for your observation, then download and unzip them. \n",
    "\n",
    "From there, we should open up one of the images in DS9 (See OnQ if unsure whet that program is) and check what we have for a peak value on the target.\n",
    "\n",
    "For this example, I used image 6, and had a peak of 37k.\n",
    "\n",
    "Next we need to rename the images, which would be a bit tedious to do manually."
   ]
  },
  {
   "cell_type": "markdown",
   "metadata": {},
   "source": [
    "## Renaming Script\n",
    "With this script I get all of my (overly) descriptive file names renamed into '###.fit' in a folder called 'input', which is what we'll need for our next script. There was/is a seperate notebook for this, but it is very simple so I added a few cells to do the same thing here.\n",
    "\n",
    "When you do this, you'll need to replace the `downloaded_images_path` with the path that will be relevant for you. There are 4 commented lines demonstrating how I navigated from my root project folder to where the images are, and we then move them by 'renaming' them. You can follow a similar process. As well, if you created a seperate area for your data to go, you may need to start off the path with a `dataFilePath+` as shown in the final line\n",
    "\n",
    "If you leave the prefix blank, like I had, you should have unzipped your downloads from iTelescope to the same folder where this notebook is running from.\n",
    "\n",
    "If you need to navigate back/up a directory, you can do so by adding `'../'` to the relevant location in your (relative) path."
   ]
  },
  {
   "cell_type": "code",
   "execution_count": 30,
   "metadata": {},
   "outputs": [],
   "source": [
    "import os"
   ]
  },
  {
   "cell_type": "markdown",
   "metadata": {},
   "source": [
    "To re-emphasize:\n",
    "\n",
    "you'll need to replace the `downloaded_images_path` with the path that will be relevant for you. "
   ]
  },
  {
   "cell_type": "code",
   "execution_count": 27,
   "metadata": {},
   "outputs": [],
   "source": [
    "#print(os.listdir())\n",
    "#print(os.listdir('T21'))\n",
    "#print(os.listdir('T21/TrES-2'))\n",
    "#print(os.listdir('T21/TrES-2/20230807'))\n",
    "downloaded_images_path = 'T21/TrES-2/20230807/'\n",
    "#downloaded_images_path = dataFilePath + 'T21/TrES-2/20230807/'"
   ]
  },
  {
   "cell_type": "markdown",
   "metadata": {},
   "source": [
    "After identifying where our images are, we rename them with the following simple loop:"
   ]
  },
  {
   "cell_type": "code",
   "execution_count": 28,
   "metadata": {},
   "outputs": [],
   "source": [
    "for filename in os.listdir(downloaded_images_path):\n",
    "    #either of the two following lines are intended to filter out and skip anything thats not an iTelescope image\n",
    "    if not filename[-4:] == '.fit': continue\n",
    "    #if not filename[10:] == 'calibrated': continue\n",
    "    \n",
    "    #The last seven digits of our images will be ###.fit, so that's what we keep\n",
    "    os.rename(downloaded_images_path+filename,dataFilePath+\"input/\"+filename[-7:])"
   ]
  },
  {
   "cell_type": "markdown",
   "metadata": {},
   "source": [
    "## AstrometryNotebook\n",
    "\n",
    "For the next major step, you'll need to open up a suplementary notebook: \"AstrometryNotebook\". You'll also want to make sure you have the \"client.py\" module installed somewhere. It should be included in the QAOP modules folder, but the subnotebook will have a new python kernal and not know to look there, so you'll have to copy the same path defining cell we had at the start of this notebook.\n",
    "\n",
    "The Astrometry notebook is quite well detailed! Basically we're adding all of our images to nova.astrometry.net to get wcs data. The basic summary of the process is that the notebook will take every image in the 'input' folder, and then upload them to the site. It will then loop through the list it created of all the files it uploaded, and download the new versions. These just appear in the same directory the script is in, so the last thing it does is move them into the folder 'output'.\n",
    "\n",
    "*For those that are curious, there are a few cells at the end of the Astrometry notebook that compares and shows what changed when we did this process.*"
   ]
  },
  {
   "cell_type": "markdown",
   "metadata": {},
   "source": [
    "## StarIDNotebook\n",
    "The next step of our analysis is to identify the stars, and give them names that we will use in our analysis.\n",
    "\n",
    "We don't particularly care or need to know their actual names at this point in our analysis, so I generally name them all like 'sA,sB,...'. \n",
    "\n",
    "The one difference is that we need to identify which one is the target, so I will often add another identifier. The point of all of this is to have a list of RA and DEC for stars that we will use in our future analysis.\n",
    "\n",
    "All of this will be done using the \"StarIDNotebook\" at the moment, although a QAOP module is in the works to do this functionality. For now though, open up the suplementary notebook, and follow it's steps to create the `nameloc.csv` file.\n",
    "\n",
    "*It is pretty badly documented at the moment, but I am going to prioritize finishing the documentation of all the things and steps in the process before I really go back and explain that whole mess... It is, of all the suplementary notebooks, the last reamining corpse of my original mega notebook, which means it has a lot of confusing extra things and hurts my brain to look at...*"
   ]
  },
  {
   "cell_type": "markdown",
   "metadata": {},
   "source": [
    "## Radial Profiling Notebook\n",
    "\n",
    "After we have given names to each of our stars, the final step in preparing for photometry is to know how big of an aperture to use. We'll do this using a relative scale based on the Full Width Half Max of the stars in our images, which we will find with this notebook.\n",
    "\n",
    "After going through this notebook, you should have created an `apertures.csv` file\n",
    "\n",
    "*I totally forgot about detailing this notebook as I was writing and explaining in the master, and I had thought I was done and ready to upload some to github, but then realized I forgot it. This was a mental blow, and I shall leave properly explaining for the first update and continue uploading to github*"
   ]
  },
  {
   "cell_type": "markdown",
   "metadata": {},
   "source": [
    "## Photometry\n",
    "\n",
    "The next step is perhaps my favourite, and, as of the current moment, the most 'behind the scenes'-y. \n",
    "\n",
    "The process does exist in the `codeDemo` notebook, but it is done using the `QAOP_photometry` package, and we can run that from here.\n",
    "\n",
    "Right now there is no tutorial/guide, so to understand you'll have to look through the module (which is extremely well documented). I do however plan on eventually making a notebook to introduce and guide the process, provided I have the time to do so.\n",
    "\n",
    "If you use the notebook, you can skip the following code cells."
   ]
  },
  {
   "cell_type": "code",
   "execution_count": null,
   "metadata": {},
   "outputs": [],
   "source": [
    "import QAOP.QAOP_photometry as QPhot\n",
    "import numpy as np\n",
    "#import os #We should have os from above.\n",
    "from astropy.table import Table"
   ]
  },
  {
   "cell_type": "code",
   "execution_count": null,
   "metadata": {},
   "outputs": [],
   "source": [
    "#photinstance = QPhot.photInstance(apertureFilePath=dataFilePath+'apertures.csv',resultDir=dataFilePath+'photometry',disableConfig=True)\n",
    "photinstance = QPhot.photInstance() #It should read in the parameters automatically, if not, use the line above instead\n",
    "#if you want to restart, you'll need to undo a \"autosave\" that it does with the following line:\n",
    "photinstance.clearMasterBuffer()"
   ]
  },
  {
   "cell_type": "markdown",
   "metadata": {},
   "source": [
    "There are two ways we could loop through our files;\n",
    " \n",
    "We can either look in the folder and run for each file thats in there\n",
    "\n",
    "Or, we can count up to the highest number and look for a file for each of those numbers"
   ]
  },
  {
   "cell_type": "code",
   "execution_count": null,
   "metadata": {},
   "outputs": [],
   "source": [
    "#This first version runs for all of the files in the output folder, but the times will end up out of order because of how\n",
    "# You could instead run for a number range, like in the second option.\n",
    "\n",
    "#Now, we need to run this photometry. We can do that by calling the runForFile method with a file path\n",
    "#for fn in os.listdir(dataFilePath+'output'):\n",
    "#    if not fn[:-5] == '.fits' : continue #Filter non fits images that may be hididng\n",
    "#    filepath = dataFilePath+'output/'+fn\n",
    "#    photinstance.runForFile(filepath) #def runForFile(self,filepath):"
   ]
  },
  {
   "cell_type": "code",
   "execution_count": null,
   "metadata": {},
   "outputs": [],
   "source": [
    "#Now, we need to run this photometry. We can do that by calling the runForFile method with a file path,\n",
    "#we can get that file path using a number with a helpful little function in the utils module\n",
    "from QAOP.QAOP_utils import getFilepath\n",
    "#  This method should automatically use the 'dataFilePath' that we wrote to the config file earlier\n",
    "\n",
    "#This version counts up numbers; but you'll need to skip any that would cause problems\n",
    "highest_image_number = 73\n",
    "\n",
    "for imgnumber in range(1,highest_image_number+1):\n",
    "    #if imgnumber == {badnumber}: continue #Skip any numbers that we need to (ex, file corrupted etc)\n",
    "    #if imgnumber == 30: continue #In the Qatar-1 data, img 30 is corrupted\n",
    "    filepath = getFilepath(imgnumber)\n",
    "    #print(filepath) # For Troubleshooting\n",
    "    photinstance.runForFile(filepath) #function is: runForFile(self,filepath)"
   ]
  },
  {
   "cell_type": "code",
   "execution_count": null,
   "metadata": {},
   "outputs": [],
   "source": [
    "#After we have run for all of our files\n",
    "photinstance.exportMasterAsSimple()\n",
    "#print(photinstance.resultDir) # if you're having trouble finding the file, this is where it is"
   ]
  },
  {
   "cell_type": "markdown",
   "metadata": {},
   "source": [
    "## Plotting\n",
    "\n",
    "Now, with the conclusion of that step, you should have done all the steps you need in order to plot your light curve.\n",
    "You'll need to do the differential photometry step still as well, but I've been doing that in my plotting notebook.\n",
    "\n",
    "For an example, I have included my plotting notebook, but you'll need different plots each time, and so I didn't comment or prepare any scripts for that part.\n",
    "\n",
    "\n",
    "As a basic summary of what you'll need:\n",
    "\n",
    "You read in the data by using `photData = Table.read('photometry/simple.ecsv)`. From there, you can access the data that we found. There's a column, `time` which has datetime strings that are pretty funky and we can't use to plot, so for your x-axis you'll need to get just the numeric times out of there. There's a function you can import from the utils package to convert them, if you just pass it the data table you have: `times = genTimesFromTable(photData)`\n",
    "\n",
    "Next, you can get the fluxes by simply referencing the data with the name of the star you want, for example, if I wanted the y-data to plot flux vs time for my target, I would get it from `photData['target'].data`. Because the data is stored in an astropy table, just using `photData['target']` would give us a subtable with the header type info, which we can probably still plot, but just to be safe I like to extract an array of the values with the `.data` property.\n",
    "\n",
    "With all that said, I could then plot the data in the way that I am most familiar with.\n",
    "\n",
    "To do the differential part, we can use either (or both) of two ways; relative flux, and magnitudes.\n",
    "\n",
    "If you would like to compute the magnitude difference between two stars, there is a function in the utils package `diffMag(flux1,flux2)` that will give you that.  For the relative flux, simply divide the flux of the star you want (probably the target) by the flux of your other comparison star. if you have numpy arrays (or astropy tables), it will handle the element-wise stuff automatically and you can just have `relative_flux = flux1/flux2` in your code."
   ]
  },
  {
   "cell_type": "code",
   "execution_count": null,
   "metadata": {},
   "outputs": [],
   "source": []
  }
 ],
 "metadata": {
  "kernelspec": {
   "display_name": "Python 3",
   "language": "python",
   "name": "python3"
  },
  "language_info": {
   "codemirror_mode": {
    "name": "ipython",
    "version": 3
   },
   "file_extension": ".py",
   "mimetype": "text/x-python",
   "name": "python",
   "nbconvert_exporter": "python",
   "pygments_lexer": "ipython3",
   "version": "3.8.5"
  }
 },
 "nbformat": 4,
 "nbformat_minor": 4
}
